{
 "cells": [
  {
   "cell_type": "markdown",
   "id": "ba1288f7-cdc5-4e70-a218-6a28025285b1",
   "metadata": {},
   "source": [
    "# TOP"
   ]
  },
  {
   "cell_type": "code",
   "execution_count": 1,
   "id": "db681e85-3fbc-4396-aded-1ad1aeecd93b",
   "metadata": {},
   "outputs": [],
   "source": [
    "import functools\n",
    "import itertools\n",
    "import pickle\n",
    "\n",
    "import numpy as np\n",
    "import pathlib\n",
    "import scipy.integrate as integrate\n",
    "import scipy.optimize as optimize\n",
    "import scipy.stats as stats\n",
    "from tqdm.notebook import tqdm\n",
    "\n",
    "from flexfrac1d.model.model import Ice, Floe, Ocean, FloatingIce, WavesUnderFloe, WavesUnderIce\n",
    "from flexfrac1d.model.frac_handlers import BinaryFracture, BinaryStrainFracture"
   ]
  },
  {
   "cell_type": "markdown",
   "id": "4948b7dd-7606-4ea0-a00a-2f4cd408a198",
   "metadata": {},
   "source": [
    "# Tank experiment, sine waves"
   ]
  },
  {
   "cell_type": "code",
   "execution_count": 2,
   "id": "22d75282-3409-4b48-803c-a99473e47bb9",
   "metadata": {},
   "outputs": [
    {
     "name": "stdout",
     "output_type": "stream",
     "text": [
      "dict_keys(['L_d', 'D', 'l_s', 'a_s', 'k_s', 'h', 'lambda_s', 'l_crack', 'dates', 'path', 'nom_exps', 'rho'])\n"
     ]
    }
   ],
   "source": [
    "with open(\"res_baptiste/params_tot_AUVITY.pkl\", \"rb\") as f:\n",
    "    pickled_dict = pickle.load(f)\n",
    "\n",
    "print(pickled_dict.keys())\n",
    "\n",
    "experimental_wavelengths = pickled_dict[\"lambda_s\"]\n",
    "experimental_thresholds = pickled_dict[\"a_s\"]\n",
    "experimental_wavenumbers = 2 * np.pi / experimental_wavelengths\n",
    "experimental_flex_lengths = pickled_dict[\"L_d\"]\n",
    "\n",
    "_temp_wl, _temp_kappa_c = np.loadtxt(\"res_baptiste/kappa_c.txt\", usecols=range(1, 11))\n",
    "assert np.allclose(experimental_wavelengths - _temp_wl, 0)\n",
    "experimental_curvature_thresholds = _temp_kappa_c"
   ]
  },
  {
   "cell_type": "code",
   "execution_count": 3,
   "id": "4f57424f-d935-4323-beef-be83ae70edb9",
   "metadata": {},
   "outputs": [],
   "source": [
    "def threshold_search(\n",
    "    wui,\n",
    "    length,\n",
    "    amplitude_a=1e-4,\n",
    "    amplitude_b=1e-1,\n",
    "    atol=1e-6,  # 1 µm\n",
    "    rtol=1e-3,\n",
    "    phase=0,\n",
    "    fracture_handler=None,\n",
    "    linear_curvature=True,\n",
    "):\n",
    "    if fracture_handler is None:\n",
    "        fracture_handler = BinaryFracture()\n",
    "    threshold = np.nan  \n",
    "    n = 0\n",
    "    # (b - a) / a > rtol\n",
    "    while amplitude_b - amplitude_a > atol or amplitude_b / amplitude_a > 1 + rtol:\n",
    "        n += 1\n",
    "        amplitude = np.sqrt(amplitude_a * amplitude_b)  # geometric mean to find lower values quicker?\n",
    "        xf, _ = compute_split(amplitude, phase, wui, length, fracture_handler, linear_curvature)\n",
    "        \n",
    "        if xf is None:\n",
    "            # No fracture, increase the amplitude\n",
    "            amplitude_a = amplitude\n",
    "        else:\n",
    "            # Fracture, lower the amplitude, and update the threshold\n",
    "            if threshold is np.nan:\n",
    "                threshold = amplitude\n",
    "            else:\n",
    "                if amplitude < threshold:  # Redondant, on cherche a priori dans un intervalle majoré par threshold\n",
    "                    threshold = amplitude\n",
    "            amplitude_b = amplitude\n",
    "    return threshold, n\n",
    "\n",
    "\n",
    "def compute_split(amplitude, phase, wui, length, fracture_handler, linear_curvature=True):\n",
    "    complex_amplitude = np.atleast_1d(amplitude * np.exp(1j * phase))\n",
    "    wuf = WavesUnderFloe(\n",
    "        left_edge=0,\n",
    "        length=length,\n",
    "        wui=wui,\n",
    "        edge_amplitudes=complex_amplitude,\n",
    "    )\n",
    "    xf = fracture_handler.search(\n",
    "        wuf=wuf,\n",
    "        growth_params=None,\n",
    "        an_sol=None,\n",
    "        num_params=None,\n",
    "        linear_curvature=linear_curvature,\n",
    "    )\n",
    "    return xf, wuf\n",
    "\n",
    "\n",
    "def compute_dissipation_length(wuf, xf, fh):\n",
    "    left_fragment, right_fragment = fh.split(wuf, xf)\n",
    "    length_left = (\n",
    "        integrate.quad(\n",
    "            lambda x: x * (wuf.curvature(xf - x, None, True, None) - left_fragment.curvature(xf - x, None, True, None))**2, 0, xf\n",
    "        )[0] / integrate.quad(\n",
    "            lambda x: (wuf.curvature(xf - x, None, True, None) - left_fragment.curvature(xf - x, None, True, None))**2, 0, xf\n",
    "        )[0]\n",
    "    )\n",
    "    length_right = (\n",
    "        integrate.quad(\n",
    "            lambda x: x * (wuf.curvature(x + xf, None, True, None) - right_fragment.curvature(x, None, True, None))**2, 0, length - xf\n",
    "        )[0] / integrate.quad(\n",
    "            lambda x: (wuf.curvature(x + xf, None, True, None) - right_fragment.curvature(x, None, True, None))**2, 0, length - xf\n",
    "        )[0]\n",
    "    )\n",
    "    return length_left + length_right"
   ]
  },
  {
   "cell_type": "code",
   "execution_count": 4,
   "id": "2b408e0e-20a7-47ef-8fbd-ce1fa4d26ebb",
   "metadata": {},
   "outputs": [
    {
     "name": "stdout",
     "output_type": "stream",
     "text": [
      "Y = 7.922294e+07\n",
      "G = 0.17385034449607434\n",
      "K = 4049.240922863745\n",
      "D = 3.1e-05\n",
      "L_D = 0.0074995275441722764\n"
     ]
    }
   ],
   "source": [
    "material_constant = 2.8e-4\n",
    "\n",
    "density = 680\n",
    "poissons_ratio = .4\n",
    "thickness = 158e-6\n",
    "flexural_rigidity = 3.1e-5\n",
    "youngs_modulus = 12 * (1 - poissons_ratio**2) * flexural_rigidity / thickness**3\n",
    "print(f\"Y = {youngs_modulus:e}\")\n",
    "\n",
    "energy_release_rate = flexural_rigidity * material_constant / (2 * thickness**2)\n",
    "print(f\"G = {energy_release_rate}\")\n",
    "fracture_thoughness = (energy_release_rate * youngs_modulus / (1 - poissons_ratio**2))**.5\n",
    "print(f\"K = {fracture_thoughness}\")\n",
    "\n",
    "depth = 11e-2\n",
    "fluid_density = 1e3\n",
    "\n",
    "gravity = 9.8\n",
    "\n",
    "varnish = Ice(\n",
    "    density=density,\n",
    "    frac_toughness=fracture_thoughness,\n",
    "    poissons_ratio=poissons_ratio,\n",
    "    thickness=thickness,\n",
    "    youngs_modulus=youngs_modulus,\n",
    ")\n",
    "assert np.isclose(varnish.frac_energy_rate - energy_release_rate, 0)\n",
    "print(f\"D = {varnish.flex_rigidity}\")\n",
    "tank = Ocean(\n",
    "    depth=depth,\n",
    "    density=fluid_density,\n",
    ")\n",
    "floating_varnish = FloatingIce.from_ice_ocean(ice=varnish, ocean=tank, gravity=gravity)\n",
    "flexural_length = floating_varnish.elastic_length\n",
    "print(f\"L_D = {flexural_length}\")"
   ]
  },
  {
   "cell_type": "code",
   "execution_count": 12,
   "id": "4b724b2a-148c-4570-90fc-59c75c73ee33",
   "metadata": {},
   "outputs": [],
   "source": [
    "import json\n",
    "\n",
    "tank_params = {\"depth\": depth, \"density\": fluid_density}\n",
    "varnish_params = {\n",
    "    \"density\": density,\n",
    "    \"energy_release_rate\": energy_release_rate,\n",
    "    \"flexural_length\": flexural_length,\n",
    "    \"flexural_rigidity\": flexural_rigidity,\n",
    "    \"poissons_ratio\": poissons_ratio,\n",
    "    \"thickness\": thickness,\n",
    "    \"frac_toughness\": fracture_thoughness,\n",
    "    \"youngs_modulus\": youngs_modulus,\n",
    "}\n",
    "reference_experiment_parameters = {\"gravity\": gravity, \"tank\": tank_params, \"varnish\": varnish_params}\n",
    "with open(\"reference_experiment_parameters.json\", \"w\") as f:\n",
    "    json.dump(reference_experiment_parameters, f)"
   ]
  },
  {
   "cell_type": "markdown",
   "id": "e4125c6b-c794-4079-8d4a-3718236a23cb",
   "metadata": {},
   "source": [
    "## Simple comparison to data, single mode"
   ]
  },
  {
   "cell_type": "code",
   "execution_count": 5,
   "id": "98845120-33e0-4a76-a0ef-7925db1b5cf1",
   "metadata": {},
   "outputs": [
    {
     "data": {
      "application/vnd.jupyter.widget-view+json": {
       "model_id": "582144cf5ac14832889d01f8fef30b4c",
       "version_major": 2,
       "version_minor": 0
      },
      "text/plain": [
       "  0%|          | 0/256 [00:00<?, ?it/s]"
      ]
     },
     "metadata": {},
     "output_type": "display_data"
    }
   ],
   "source": [
    "path = \"results/stationnary_simple_comparison.npz\"\n",
    "rerun = True\n",
    "\n",
    "if rerun:\n",
    "    fracture_handler = BinaryFracture()\n",
    "    max_wave_slope = .5\n",
    "    harmonic_number = 3\n",
    "    phase = 0\n",
    "    wavenumbers = np.geomspace(\n",
    "        experimental_wavenumbers.min() / 1.5,\n",
    "        experimental_wavenumbers.max() * 4,\n",
    "        256,\n",
    "    )\n",
    "\n",
    "    lengths = harmonic_number * np.pi / wavenumbers\n",
    "    amplitude_thresholds = np.full(wavenumbers.size, np.nan)\n",
    "    curvature_thresholds = np.full(wavenumbers.size, np.nan)\n",
    "    curvatures_at_half_point = np.full(wavenumbers.size, np.nan)\n",
    "    normalised_max_curvature_coords = np.full(wavenumbers.size, np.nan)\n",
    "    max_curvatures = np.full(wavenumbers.size, np.nan)\n",
    "    relaxation_lengths = np.full(wavenumbers.size, np.nan)\n",
    "    normalised_fractures = np.full(wavenumbers.size, np.nan)  # coordinate\n",
    "    wuis = [\n",
    "        WavesUnderIce(floating_varnish, np.atleast_1d(k), 0)\n",
    "        for k in wavenumbers\n",
    "    ]\n",
    "    \n",
    "    for j, (wui, length) in enumerate(tqdm(zip(wuis, lengths), total=len(wuis))):\n",
    "        amplitude_threshold, n = threshold_search(\n",
    "            wui,\n",
    "            length,\n",
    "            atol=1e-7,  # 0.1 µm\n",
    "            rtol=1e-4,\n",
    "            amplitude_b=max_wave_slope / wui.wavenumbers[0],\n",
    "            fracture_handler=fracture_handler,\n",
    "        )\n",
    "        amplitude_thresholds[j] = amplitude_threshold\n",
    "        if amplitude_threshold is not np.nan:\n",
    "            xf, wuf = compute_split(amplitude_threshold, phase, wui, length, fracture_handler)\n",
    "            curvature_thresholds[j] = wuf.curvature(xf, None, True, None)\n",
    "            normalised_fractures[j] = xf / length\n",
    "\n",
    "            curvatures_at_half_point[j] = wuf.curvature(length / 2, None, True, None)\n",
    "            # Taking advantage of the fact kappa(L / 2) is a maximum,\n",
    "            # and we look for a negative minimum\n",
    "            opt = optimize.minimize_scalar(\n",
    "                lambda x: wuf.curvature(x, None, True, None),\n",
    "                bounds=(0, length / 2),\n",
    "            )\n",
    "            normalised_max_curvature_coords[j] = opt.x / length\n",
    "            max_curvatures[j] = wuf.curvature(opt.x, None, True, None)\n",
    "            relaxation_lengths[j] = compute_dissipation_length(wuf, xf, fracture_handler)\n",
    "\n",
    "    np.savez(\n",
    "        path,\n",
    "        wavenumbers=wavenumbers,\n",
    "        amplitude_thresholds=amplitude_thresholds,\n",
    "        curvature_thresholds=curvature_thresholds,\n",
    "        normalised_fractures=normalised_fractures,\n",
    "        curvatures_at_half_point=curvatures_at_half_point,\n",
    "        normalised_max_curvature_coords=normalised_max_curvature_coords,\n",
    "        max_curvatures=max_curvatures,\n",
    "        relaxation_lengths=relaxation_lengths,\n",
    "    )\n",
    "else:\n",
    "    loaded = np.load(path)\n",
    "    (\n",
    "        wavenumbers,\n",
    "        amplitude_thresholds,\n",
    "        curvature_thresholds,\n",
    "        normalised_fractures,\n",
    "        curvatures_at_half_point,\n",
    "        normalised_max_curvature_coords,\n",
    "        max_curvatures,\n",
    "        relaxation_lengths,\n",
    "    ) = (\n",
    "        loaded[k] for k in (\n",
    "            \"wavenumbers\",\n",
    "            \"amplitude_thresholds\",\n",
    "            \"curvature_thresholds\",\n",
    "            \"normalised_fractures\",\n",
    "            \"curvatures_at_half_point\",\n",
    "            \"normalised_max_curvature_coords\",\n",
    "            \"max_curvatures\",\n",
    "            \"relaxation_lengths\",\n",
    "        )\n",
    "    )\n",
    "nondim = wavenumbers * flexural_length"
   ]
  },
  {
   "cell_type": "markdown",
   "id": "18ce3e40-544d-4385-82d0-4b6bbd2bde26",
   "metadata": {},
   "source": [
    "## Ensemble comparison to data"
   ]
  },
  {
   "cell_type": "code",
   "execution_count": 612,
   "id": "c5b5abe3-8ef7-46ab-8d77-47b99dcae4ab",
   "metadata": {},
   "outputs": [
    {
     "name": "stdout",
     "output_type": "stream",
     "text": [
      "h: 1.04e-04 pm 4.95e-05\n",
      "Y: 6.87e+07 pm 6.33e+07\n"
     ]
    }
   ],
   "source": [
    "_h = pickled_dict[\"h\"]\n",
    "_D = pickled_dict[\"D\"]\n",
    "_Y = _D / _h**3 * (12 * (1 - .4**2))\n",
    "print(f\"h: {_h.mean():.2e} pm {_h.std():.2e}\")\n",
    "print(f\"Y: {_Y.mean():.2e} pm {_Y.std():.2e}\")"
   ]
  },
  {
   "cell_type": "code",
   "execution_count": 6,
   "id": "7e714209-8fd7-470a-be33-c895bb4f7c61",
   "metadata": {},
   "outputs": [],
   "source": [
    "def gen_sample(n_samples):\n",
    "    seed = 0x3838\n",
    "    rng = np.random.default_rng(seed=seed)\n",
    "    lhc = stats.qmc.LatinHypercube(2, seed=rng)\n",
    "    samples = lhc.random(n=n_samples)\n",
    "    \n",
    "    youngs_modulus_norm_params = 70e6, 14e6\n",
    "    thickness_norm_params = 100e-6, 20e-6\n",
    "    \n",
    "    thicknesses = stats.norm.ppf(samples[:, 0], *thickness_norm_params)\n",
    "    youngs_moduli = stats.norm.ppf(samples[:, 1], *youngs_modulus_norm_params)\n",
    "    assert not np.any((thicknesses < 0) | (youngs_moduli < 0))\n",
    "    \n",
    "    return thicknesses, youngs_moduli\n",
    "    \n",
    "\n",
    "def gen_toughnesses(thicknesses, youngs_moduli, poissons_ratio, material_constant):\n",
    "    flexural_rigidities = youngs_moduli * thicknesses**3 / (12 * (1 - poissons_ratio**2))\n",
    "    energy_release_rates = material_constant * flexural_rigidities / (2 * thicknesses**2)\n",
    "    \n",
    "    toughnesses = (energy_release_rates * youngs_moduli / (1 - poissons_ratio**2))**.5\n",
    "    return toughnesses\n",
    "\n",
    "\n",
    "def gen_varnishes(\n",
    "    thicknesses,\n",
    "    youngs_moduli,\n",
    "    frac_toughnesses,\n",
    "    density,\n",
    "    poissons_ratio,\n",
    "    tank,\n",
    "    gravity,    \n",
    "):\n",
    "    floating_varnishes = [\n",
    "        FloatingIce.from_ice_ocean(\n",
    "            ice=Ice(\n",
    "                density=density,\n",
    "                frac_toughness=_K,\n",
    "                poissons_ratio=poissons_ratio,\n",
    "                thickness=_h,\n",
    "                youngs_modulus=_E,\n",
    "            ),\n",
    "            ocean=tank,\n",
    "            gravity=gravity\n",
    "        ) for _h, _E, _K in zip(thicknesses, youngs_moduli, frac_toughnesses)\n",
    "    ]\n",
    "    return floating_varnishes"
   ]
  },
  {
   "cell_type": "code",
   "execution_count": null,
   "id": "f46f2320-41ea-4874-b03e-417557e02b26",
   "metadata": {},
   "outputs": [],
   "source": [
    "harmonic_number = 3  # to be varied\n",
    "path = f\"results/stationnary_ensemble_comparison_nondim_hn{harmonic_number:02d}.npz\"\n",
    "rerun = True\n",
    "\n",
    "if rerun:\n",
    "    n_samples = 128\n",
    "    thicknesses, youngs_moduli = gen_sample(n_samples)\n",
    "    toughnesses = gen_toughnesses(thicknesses, youngs_moduli, poissons_ratio, material_constant)\n",
    "    floating_varnishes = gen_varnishes(thicknesses, youngs_moduli, toughnesses, density, poissons_ratio, tank, gravity)\n",
    "    assert np.allclose(\n",
    "        np.array([\n",
    "            _fv.frac_energy_rate / (_fv.flex_rigidity / (2 * _fv.thickness**2))\n",
    "            for _fv in floating_varnishes\n",
    "        ]) - material_constant, 0\n",
    "    )\n",
    "    flex_lengths, flexural_rigidities, energy_release_rates = map(\n",
    "        np.array,\n",
    "        zip(*[\n",
    "            (_fv.elastic_length, _fv.flex_rigidity, _fv.frac_energy_rate)\n",
    "            for _fv in floating_varnishes\n",
    "        ]),\n",
    "    )\n",
    "    attenuation = 0\n",
    "    phase = 0\n",
    "    \n",
    "    fracture_handler = BinaryFracture()\n",
    "    max_wave_slope = .5\n",
    "    nondim = np.geomspace(8e-2, 2.5, 256)\n",
    "    wavenumbers = nondim / flex_lengths[:, None]\n",
    "    lengths = harmonic_number * np.pi / wavenumbers\n",
    "    amplitude_thresholds = np.full((n_samples, nondim.size), np.nan)\n",
    "    curvature_thresholds = np.full((n_samples, nondim.size), np.nan)\n",
    "    energy_dissipation_lengths = np.full((n_samples, nondim.size), np.nan)\n",
    "    \n",
    "    for i, _fv in enumerate(tqdm(floating_varnishes)):\n",
    "        for j, (_wn, length) in enumerate(\n",
    "            tqdm(zip(wavenumbers[i], lengths[i]), total=nondim.size, leave=False)\n",
    "        ):\n",
    "            wui = WavesUnderIce(_fv, np.atleast_1d(_wn), 0)\n",
    "            amplitude_threshold, n = threshold_search(\n",
    "                wui,\n",
    "                length,\n",
    "                amplitude_b=max_wave_slope / wui.wavenumbers[0],\n",
    "                fracture_handler=fracture_handler,\n",
    "            )\n",
    "            amplitude_thresholds[i, j] = amplitude_threshold\n",
    "            if amplitude_threshold is not np.nan:\n",
    "                xf, wuf = compute_split(amplitude_threshold, phase, wui, length, fracture_handler)\n",
    "                curvature_thresholds[i, j] = wuf.curvature(xf, None, True, None)\n",
    "                energy_dissipation_lengths[i, j] = compute_dissipation_length(wuf, xf, fracture_handler)\n",
    "    np.savez(\n",
    "        path,\n",
    "        nondim=nondim,\n",
    "        thicknesses=thicknesses,\n",
    "        youngs_moduli=youngs_moduli,\n",
    "        flexural_rigidities=flexural_rigidities,\n",
    "        flex_lengths=flex_lengths,\n",
    "        lengths=lengths,\n",
    "        energy_release_rates=energy_release_rates,\n",
    "        wavenumbers=wavenumbers,\n",
    "        amplitude_thresholds=amplitude_thresholds,\n",
    "        curvature_thresholds=curvature_thresholds,\n",
    "        energy_dissipation_lengths=energy_dissipation_lengths,\n",
    "    )\n",
    "else:\n",
    "    loaded = np.load(path)\n",
    "    (\n",
    "        nondim,\n",
    "        thicknesses,\n",
    "        youngs_moduli,\n",
    "        flexural_rigidities,\n",
    "        flex_lengths,\n",
    "        lengths,\n",
    "        energy_release_rates,\n",
    "        wavenumbers,\n",
    "        amplitude_thresholds,\n",
    "        curvature_thresholds,\n",
    "        energy_dissipation_lengths,\n",
    "    ) = (\n",
    "        loaded[k] for k in (\n",
    "            \"nondim\",\n",
    "            \"thicknesses\",\n",
    "            \"youngs_moduli\",\n",
    "            \"flexural_rigidities\",\n",
    "            \"flex_lengths\",\n",
    "            \"lengths\",\n",
    "            \"energy_release_rates\",\n",
    "            \"wavenumbers\",\n",
    "            \"amplitude_thresholds\",\n",
    "            \"curvature_thresholds\",\n",
    "            \"energy_dissipation_lengths\",\n",
    "        )\n",
    "    )"
   ]
  },
  {
   "cell_type": "code",
   "execution_count": 28,
   "id": "3bfcb2e4-30dd-469b-a4e2-88bed3567792",
   "metadata": {},
   "outputs": [
    {
     "data": {
      "text/plain": [
       "array([0.4312    , 0.29268525, 0.10473971, 0.23693369, 0.14303956,\n",
       "       0.54114617, 0.52461165, 0.36301367, 0.20899214, 0.06195224])"
      ]
     },
     "execution_count": 28,
     "metadata": {},
     "output_type": "execute_result"
    }
   ],
   "source": [
    "pickled_dict[\"lambda_s\"]"
   ]
  },
  {
   "cell_type": "code",
   "execution_count": 29,
   "id": "097009df-b601-4721-9d17-e64d60a158c4",
   "metadata": {},
   "outputs": [
    {
     "data": {
      "text/plain": [
       "array([ 14.5713945 ,  21.46737962,  59.98856945,  26.51874984,\n",
       "        43.92620751,  11.61088375,  11.97683154,  17.30839872,\n",
       "        30.06421838, 101.41982448])"
      ]
     },
     "execution_count": 29,
     "metadata": {},
     "output_type": "execute_result"
    }
   ],
   "source": [
    "2 * np.pi / pickled_dict[\"lambda_s\"]"
   ]
  },
  {
   "cell_type": "code",
   "execution_count": 58,
   "id": "4ed0e973-e224-4f6e-96b5-320abd5d8023",
   "metadata": {},
   "outputs": [
    {
     "data": {
      "text/plain": [
       "0.06195224"
      ]
     },
     "execution_count": 58,
     "metadata": {},
     "output_type": "execute_result"
    }
   ],
   "source": [
    "wavenumbers = 2 * np.pi / pickled_dict[\"lambda_s\"]\n",
    "sort_key = np.argsort(wavenumbers)\n",
    "harmonic_numbers = np.ones_like(wavenumbers)\n",
    "harmonic_numbers[sort_key[-2:]] = 2\n",
    "harmonic_numbers[sort_key[-4:-2]] = 3\n",
    "(harmonic_numbers * np.pi / wavenumbers).min()"
   ]
  },
  {
   "cell_type": "code",
   "execution_count": 62,
   "id": "3d9cdfeb-68e9-4ee4-b653-e920db66d95c",
   "metadata": {},
   "outputs": [
    {
     "data": {
      "text/plain": [
       "0.06195224"
      ]
     },
     "execution_count": 62,
     "metadata": {},
     "output_type": "execute_result"
    }
   ],
   "source": [
    "2 * np.pi / wavenumbers.max()"
   ]
  },
  {
   "cell_type": "code",
   "execution_count": 60,
   "id": "2b007027-68f0-40e5-b8c3-3f0a622abfc7",
   "metadata": {},
   "outputs": [
    {
     "data": {
      "text/plain": [
       "0.00162004"
      ]
     },
     "execution_count": 60,
     "metadata": {},
     "output_type": "execute_result"
    }
   ],
   "source": [
    "pickled_dict[\"a_s\"].min()"
   ]
  }
 ],
 "metadata": {
  "kernelspec": {
   "display_name": "Python 3 (ipykernel)",
   "language": "python",
   "name": "python3"
  },
  "language_info": {
   "codemirror_mode": {
    "name": "ipython",
    "version": 3
   },
   "file_extension": ".py",
   "mimetype": "text/x-python",
   "name": "python",
   "nbconvert_exporter": "python",
   "pygments_lexer": "ipython3",
   "version": "3.12.10"
  }
 },
 "nbformat": 4,
 "nbformat_minor": 5
}
